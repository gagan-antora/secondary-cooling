{
 "cells": [
  {
   "cell_type": "code",
   "execution_count": 111,
   "metadata": {},
   "outputs": [],
   "source": [
    "import numpy as np\n"
   ]
  },
  {
   "cell_type": "code",
   "execution_count": 112,
   "metadata": {},
   "outputs": [],
   "source": [
    "# Initial Parameters\n",
    "\n",
    "no_of_timesteps = 1000\n",
    "no_of_lengthsteps = 10\n",
    "\n",
    "total_time = 60\n",
    "L = 2.286/1000\n",
    "initial_temperature_c = 150\n",
    "enclosure_temperature_c = 30\n",
    "initial_temperature = initial_temperature_c+273\n",
    "enclosure_temperature = enclosure_temperature_c+273\n",
    "\n",
    "timestep = total_time/no_of_timesteps\n",
    "lengthstep = L/no_of_lengthsteps\n",
    "\n",
    "\n",
    "HT_density = 953\n",
    "HT_conductivity = 0.105\n",
    "HT_heatcapacity = 2.05*1000\n",
    "HT_alpha = HT_conductivity / HT_density / HT_heatcapacity\n",
    "HT_Fo = HT_alpha*timestep/(lengthstep**2)\n",
    "SB  = 5.6704*(10**-8)\n",
    "\n"
   ]
  },
  {
   "cell_type": "code",
   "execution_count": 113,
   "metadata": {},
   "outputs": [],
   "source": [
    "#Discretization\n",
    "\n",
    "\n",
    "length_nodes = np.linspace(0, L, no_of_lengthsteps)\n",
    "time_nodes = np.linspace(0,total_time, no_of_timesteps)\n",
    "temperature_array = np.zeros((no_of_timesteps+1, no_of_lengthsteps))\n",
    "temperature_array[0:2,:] = initial_temperature\n",
    "# print(temperature_array)\n",
    "# print(length_nodes)\n",
    "\n"
   ]
  },
  {
   "cell_type": "code",
   "execution_count": 114,
   "metadata": {},
   "outputs": [
    {
     "name": "stdout",
     "output_type": "stream",
     "text": [
      "[[150.         150.         150.         ... 150.         150.\n",
      "  150.        ]\n",
      " [150.         150.         150.         ... 150.         150.\n",
      "  149.6406323 ]\n",
      " [150.         150.         150.         ... 150.         149.97782415\n",
      "  149.32727185]\n",
      " ...\n",
      " [137.01952713 136.89608339 136.52614192 ... 131.04711247 129.24990452\n",
      "  127.23059869]\n",
      " [137.00429221 136.88087252 136.5110032  ... 131.03305155 129.23619931\n",
      "  127.21729346]\n",
      " [136.98906025 136.86566461 136.49586744 ... 131.01899344 129.22249683\n",
      "  127.20399085]]\n",
      "0.061707980788344344\n"
     ]
    }
   ],
   "source": [
    "#Do the computation\n",
    "for i,t in enumerate(time_nodes[1:], start=1):\n",
    "    temperature_array[i,0] = ((2*timestep*HT_conductivity/(lengthstep**2)/HT_density/HT_heatcapacity)*(temperature_array[i-1,1] - temperature_array[i-1,0])) + temperature_array[i-1,0]\n",
    "\n",
    "    for j,x in enumerate(length_nodes[1:-1], start=1):\n",
    "        temperature_array[i,j]= HT_Fo*(temperature_array[i-1,j+1] + temperature_array[i-1,j-1]) + (1-2*HT_Fo)*(temperature_array[i-1,j])\n",
    "\n",
    "    temperature_array[i,-1] = (2*timestep*SB/HT_density/HT_heatcapacity/lengthstep)*((enclosure_temperature)**4 - (temperature_array[i-1,-1])**4) + (2*HT_Fo*(temperature_array[i-1,-2] - temperature_array[i-1,-1])) + temperature_array[i-1,-1]\n",
    "\n",
    "print(temperature_array[:-1]-273)\n",
    "print(HT_Fo)\n",
    "    "
   ]
  },
  {
   "cell_type": "code",
   "execution_count": null,
   "metadata": {},
   "outputs": [],
   "source": []
  }
 ],
 "metadata": {
  "kernelspec": {
   "display_name": "Python 3",
   "language": "python",
   "name": "python3"
  },
  "language_info": {
   "codemirror_mode": {
    "name": "ipython",
    "version": 3
   },
   "file_extension": ".py",
   "mimetype": "text/x-python",
   "name": "python",
   "nbconvert_exporter": "python",
   "pygments_lexer": "ipython3",
   "version": "3.12.3"
  }
 },
 "nbformat": 4,
 "nbformat_minor": 2
}
